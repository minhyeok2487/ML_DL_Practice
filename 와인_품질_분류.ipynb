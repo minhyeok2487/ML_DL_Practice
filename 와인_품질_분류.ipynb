{
  "nbformat": 4,
  "nbformat_minor": 0,
  "metadata": {
    "colab": {
      "name": "와인 품질 분류.ipynb",
      "private_outputs": true,
      "provenance": [],
      "mount_file_id": "1yusmZAvLL3Ax9dqv9fgK3Eaa9EJdklHF",
      "authorship_tag": "ABX9TyN+7Z4OVGgjEpTB27MIM4dp",
      "include_colab_link": true
    },
    "kernelspec": {
      "name": "python3",
      "display_name": "Python 3"
    },
    "language_info": {
      "name": "python"
    }
  },
  "cells": [
    {
      "cell_type": "markdown",
      "metadata": {
        "id": "view-in-github",
        "colab_type": "text"
      },
      "source": [
        "<a href=\"https://colab.research.google.com/github/minhyeok2487/ML_DL_Practice/blob/main/%EC%99%80%EC%9D%B8_%ED%92%88%EC%A7%88_%EB%B6%84%EB%A5%98.ipynb\" target=\"_parent\"><img src=\"https://colab.research.google.com/assets/colab-badge.svg\" alt=\"Open In Colab\"/></a>"
      ]
    },
    {
      "cell_type": "markdown",
      "metadata": {
        "id": "7ciQxGxafIAv"
      },
      "source": [
        "# 1. 라이브러리 호출"
      ]
    },
    {
      "cell_type": "code",
      "metadata": {
        "id": "KPHpfI3cfFV_"
      },
      "source": [
        "import pandas as pd\n",
        "import numpy as np\n",
        "\n",
        "import matplotlib.pyplot as plt\n",
        "%matplotlib inline\n",
        "import seaborn as sns    "
      ],
      "execution_count": null,
      "outputs": []
    },
    {
      "cell_type": "code",
      "metadata": {
        "id": "vWLOX2I4fx_u"
      },
      "source": [
        "import os\n",
        "os.chdir(\"/content/drive/MyDrive/데이터 분석/[DACON] 와인 품질 분류/data\")\n",
        "print(os.getcwd())"
      ],
      "execution_count": null,
      "outputs": []
    },
    {
      "cell_type": "markdown",
      "metadata": {
        "id": "QuWhiLaxfXPG"
      },
      "source": [
        "# 2. 데이터 로드"
      ]
    },
    {
      "cell_type": "code",
      "metadata": {
        "id": "Z9mJ748LfWjt"
      },
      "source": [
        "train = pd.read_csv('train.csv')\n",
        "test = pd.read_csv('test.csv')"
      ],
      "execution_count": null,
      "outputs": []
    },
    {
      "cell_type": "code",
      "metadata": {
        "id": "01_PuZoEf-1F"
      },
      "source": [
        "train.head()\n",
        "#index 제외 13개의 변수"
      ],
      "execution_count": null,
      "outputs": []
    },
    {
      "cell_type": "code",
      "metadata": {
        "id": "2NuFqhwHgA6L"
      },
      "source": [
        "test.head()\n",
        "# 종속변수 - quality"
      ],
      "execution_count": null,
      "outputs": []
    },
    {
      "cell_type": "code",
      "metadata": {
        "id": "Mr1c7g8XgIMA"
      },
      "source": [
        "train.info()\n",
        "# type만 오브젝트, 결측치 없음"
      ],
      "execution_count": null,
      "outputs": []
    },
    {
      "cell_type": "code",
      "metadata": {
        "id": "D2FgQWUbgRD3"
      },
      "source": [
        "# train의 변수 간 상관관계를 살펴봅니다.\n",
        "plt.figure(figsize=(12,12))\n",
        "sns.heatmap(data = train.corr(), annot=True, fmt = '.2f', linewidths=.5, cmap='Blues')"
      ],
      "execution_count": null,
      "outputs": []
    },
    {
      "cell_type": "code",
      "metadata": {
        "id": "3sMy1plQgZ51"
      },
      "source": [
        "# test의 변수 간 상관관계를 살펴봅니다.\n",
        "plt.figure(figsize=(12,12))\n",
        "sns.heatmap(data = test.corr(), annot=True, fmt = '.2f', linewidths=.5, cmap='gray')"
      ],
      "execution_count": null,
      "outputs": []
    },
    {
      "cell_type": "code",
      "metadata": {
        "id": "zzUKO2OAgo29"
      },
      "source": [
        "plt.figure(figsize=(12,12))\n",
        "for i in range(1,13):\n",
        "    plt.subplot(3,4,i)\n",
        "    sns.distplot(train.iloc[:,i])\n",
        "plt.tight_layout()\n",
        "plt.show()"
      ],
      "execution_count": null,
      "outputs": []
    },
    {
      "cell_type": "markdown",
      "metadata": {
        "id": "NY3QXPh2hHwH"
      },
      "source": [
        "# 3. 데이터 전처리"
      ]
    },
    {
      "cell_type": "markdown",
      "metadata": {
        "id": "nDpE9LZEhK2G"
      },
      "source": [
        "## 1) Type 변수 확인"
      ]
    },
    {
      "cell_type": "code",
      "metadata": {
        "id": "11q0SbRShKi4"
      },
      "source": [
        "train['type'].value_counts()"
      ],
      "execution_count": null,
      "outputs": []
    },
    {
      "cell_type": "code",
      "metadata": {
        "id": "MfD01Kdsgu4M"
      },
      "source": [
        "# 각각 0, 1로 변환\n",
        "train['type'] = train['type'].map({'white':0, 'red':1}).astype(int)\n",
        "test['type'] = test['type'].map({'white':0, 'red':1}).astype(int)"
      ],
      "execution_count": null,
      "outputs": []
    },
    {
      "cell_type": "code",
      "metadata": {
        "id": "9qskJ2PRhj5V"
      },
      "source": [
        "train.head()"
      ],
      "execution_count": null,
      "outputs": []
    },
    {
      "cell_type": "markdown",
      "metadata": {
        "id": "Uy1HlYK0hsSr"
      },
      "source": [
        "## 2) 데이터 정규화"
      ]
    },
    {
      "cell_type": "code",
      "metadata": {
        "id": "sClDXxachle6"
      },
      "source": [
        "from sklearn.preprocessing import MinMaxScaler\n",
        "train_df = train.copy()\n",
        "train_df = train_df.drop(['index','quality','type'], axis=1)\n",
        "train_df"
      ],
      "execution_count": null,
      "outputs": []
    },
    {
      "cell_type": "code",
      "metadata": {
        "id": "b9buHDAQiMGC"
      },
      "source": [
        "transformer = MinMaxScaler()\n",
        "train_df[:] = transformer.fit_transform(train_df[:])\n",
        "train_df"
      ],
      "execution_count": null,
      "outputs": []
    },
    {
      "cell_type": "code",
      "metadata": {
        "id": "PH5C7zmLjzcf"
      },
      "source": [
        "test_df = test.copy()\n",
        "test_df = test_df.drop(['index','type'], axis=1)\n",
        "test_df[:] = transformer.fit_transform(test_df[:])\n",
        "test_df"
      ],
      "execution_count": null,
      "outputs": []
    },
    {
      "cell_type": "code",
      "metadata": {
        "id": "qxqxxVMgidnP"
      },
      "source": [
        "plt.figure(figsize=(12,12))\n",
        "for i in range(1,10):\n",
        "    plt.subplot(3,4,i)\n",
        "    sns.distplot(train_df.iloc[:,i])\n",
        "plt.tight_layout()\n",
        "plt.show()"
      ],
      "execution_count": null,
      "outputs": []
    },
    {
      "cell_type": "markdown",
      "metadata": {
        "id": "uu5QygtZjMdp"
      },
      "source": [
        "# 3. 간단한 모델 학습"
      ]
    },
    {
      "cell_type": "markdown",
      "metadata": {
        "id": "Cte4l6VBjQH3"
      },
      "source": [
        "## 1) 데이터 정형화"
      ]
    },
    {
      "cell_type": "code",
      "metadata": {
        "id": "GgFloQNLi8rA"
      },
      "source": [
        "train_x = train_df\n",
        "train_x['type'] = train['type'].values \n",
        "train_x"
      ],
      "execution_count": null,
      "outputs": []
    },
    {
      "cell_type": "code",
      "metadata": {
        "id": "wWVMM8XYkHz6"
      },
      "source": [
        "train_y = train['quality']\n",
        "train_y"
      ],
      "execution_count": null,
      "outputs": []
    },
    {
      "cell_type": "code",
      "metadata": {
        "id": "BfM22CIFjtCC"
      },
      "source": [
        "test_x = test_df\n",
        "test_x['type'] = test['type'].values \n",
        "test_x"
      ],
      "execution_count": null,
      "outputs": []
    },
    {
      "cell_type": "markdown",
      "metadata": {
        "id": "-I__0TOckWcx"
      },
      "source": [
        "## 2) lightgbm 모델 학습 \n",
        "**점수 : 0.497**"
      ]
    },
    {
      "cell_type": "code",
      "metadata": {
        "id": "JitjoqpgrlcA"
      },
      "source": [
        "train_x = train.drop(['index', 'quality'], axis = 1)\n",
        "train_y = train['quality']\n",
        "test_x = test.drop('index', axis = 1)"
      ],
      "execution_count": null,
      "outputs": []
    },
    {
      "cell_type": "code",
      "metadata": {
        "id": "SlEX3A2UruQe"
      },
      "source": [
        "train_x"
      ],
      "execution_count": null,
      "outputs": []
    },
    {
      "cell_type": "code",
      "metadata": {
        "id": "xBWtsBwcq5Xh"
      },
      "source": [
        "from sklearn.model_selection import train_test_split\n",
        "X_train, X_test, y_train, y_test = train_test_split(train_x, train_y, test_size = 0.3, \n",
        "                                                    random_state = 0, stratify=train_y)"
      ],
      "execution_count": null,
      "outputs": []
    },
    {
      "cell_type": "code",
      "metadata": {
        "id": "VNMkbXuEkRqv"
      },
      "source": [
        "import lightgbm as lgbm\n",
        "model = lgbm.LGBMClassifier()\n",
        "model.fit(X_train,y_train)"
      ],
      "execution_count": null,
      "outputs": []
    },
    {
      "cell_type": "markdown",
      "metadata": {
        "id": "y54Et6LLkeqD"
      },
      "source": [
        "## 3) 예측 데이터 생성"
      ]
    },
    {
      "cell_type": "code",
      "metadata": {
        "id": "PhxoHF9Lkcy9"
      },
      "source": [
        "y_pred = model.predict(X_test)\n",
        "y_pred"
      ],
      "execution_count": null,
      "outputs": []
    },
    {
      "cell_type": "markdown",
      "metadata": {
        "id": "-d2ac9G5rS7P"
      },
      "source": [
        "## 4) View Accuracy"
      ]
    },
    {
      "cell_type": "code",
      "metadata": {
        "id": "NTWYUtJ7rVYy"
      },
      "source": [
        "from sklearn.metrics import accuracy_score\n",
        "accuracy=accuracy_score(y_pred, y_test)\n",
        "print('LightGBM Model accuracy score: {0:0.4f}'.format(accuracy_score(y_test, y_pred)))"
      ],
      "execution_count": null,
      "outputs": []
    },
    {
      "cell_type": "markdown",
      "metadata": {
        "id": "OhZOGKCHrjwW"
      },
      "source": [
        "0.6242"
      ]
    },
    {
      "cell_type": "markdown",
      "metadata": {
        "id": "eVdFOjLxkkp3"
      },
      "source": [
        "## 4) 제출파일"
      ]
    },
    {
      "cell_type": "code",
      "metadata": {
        "id": "-NXNhhM5kh4D"
      },
      "source": [
        "smpl_sub = pd.read_csv('sample_submission.csv')\n",
        "smpl_sub['quality'] = y_pred"
      ],
      "execution_count": null,
      "outputs": []
    },
    {
      "cell_type": "code",
      "metadata": {
        "id": "xiTcQP0vkrL_"
      },
      "source": [
        "smpl_sub"
      ],
      "execution_count": null,
      "outputs": []
    },
    {
      "cell_type": "code",
      "metadata": {
        "id": "g8dN23S9kr60"
      },
      "source": [
        "smpl_sub.to_csv('submission_210821.csv', index=False)"
      ],
      "execution_count": null,
      "outputs": []
    },
    {
      "cell_type": "markdown",
      "metadata": {
        "id": "uB35pNWbswHN"
      },
      "source": [
        "# 4. KNN 모델 학습 "
      ]
    },
    {
      "cell_type": "code",
      "metadata": {
        "id": "JpwcB8vus1T1"
      },
      "source": [
        "train_x = train.drop(['index', 'quality'], axis = 1)\n",
        "train_y = train['quality']\n",
        "test_x = test.drop('index', axis = 1)"
      ],
      "execution_count": null,
      "outputs": []
    },
    {
      "cell_type": "code",
      "metadata": {
        "id": "UtYLUvtUs5Gp"
      },
      "source": [
        "from sklearn.model_selection import train_test_split\n",
        "X_train, X_test, y_train, y_test = train_test_split(train_x, train_y, test_size = 0.3, \n",
        "                                                    random_state = 0, stratify=train_y)"
      ],
      "execution_count": null,
      "outputs": []
    },
    {
      "cell_type": "code",
      "metadata": {
        "id": "Py3GPyJKs63d"
      },
      "source": [
        "from sklearn.neighbors import KNeighborsClassifier\n",
        "knn = KNeighborsClassifier(n_neighbors=1)"
      ],
      "execution_count": null,
      "outputs": []
    },
    {
      "cell_type": "code",
      "metadata": {
        "id": "n5evldXms9Id"
      },
      "source": [
        "  knn.fit(X_train, y_train)"
      ],
      "execution_count": null,
      "outputs": []
    },
    {
      "cell_type": "code",
      "metadata": {
        "id": "skcf2GLRs_Mb"
      },
      "source": [
        "print(knn.score(X_test, y_test))"
      ],
      "execution_count": null,
      "outputs": []
    },
    {
      "cell_type": "code",
      "metadata": {
        "id": "x8aqPNuJtZSa"
      },
      "source": [
        "import matplotlib.pyplot as plt\n",
        "k_list = range(1,101)\n",
        "accuracies = []\n",
        "for k in k_list:\n",
        "  classifier = KNeighborsClassifier(n_neighbors = k)\n",
        "  classifier.fit(X_train, y_train)\n",
        "  accuracies.append(classifier.score(X_test, y_test))\n",
        "plt.plot(k_list, accuracies)\n",
        "plt.xlabel(\"k\")\n",
        "plt.ylabel(\"Validation Accuracy\")\n",
        "plt.title(\"Breast Cancer Classifier Accuracy\")\n",
        "plt.show()"
      ],
      "execution_count": null,
      "outputs": []
    },
    {
      "cell_type": "code",
      "metadata": {
        "id": "jK_HdjDotUh5"
      },
      "source": [
        ""
      ],
      "execution_count": null,
      "outputs": []
    }
  ]
}